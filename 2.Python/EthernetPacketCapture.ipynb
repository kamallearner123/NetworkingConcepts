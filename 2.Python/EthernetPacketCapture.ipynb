{
 "cells": [
  {
   "cell_type": "code",
   "execution_count": 13,
   "id": "0fb6087c",
   "metadata": {},
   "outputs": [],
   "source": [
    "from struct import *\n",
    "import socket\n",
    "\n"
   ]
  },
  {
   "cell_type": "code",
   "execution_count": 20,
   "id": "f5800d85",
   "metadata": {},
   "outputs": [],
   "source": [
    "\n",
    "\n",
    "# Creating socket\n",
    "\n",
    "s = socket.socket() #"
   ]
  },
  {
   "cell_type": "code",
   "execution_count": 21,
   "id": "8ac82914",
   "metadata": {},
   "outputs": [
    {
     "name": "stdout",
     "output_type": "stream",
     "text": [
      "Help on built-in function connect:\n",
      "\n",
      "connect(...) method of socket.socket instance\n",
      "    connect(address)\n",
      "    \n",
      "    Connect the socket to a remote address.  For IP sockets, the address\n",
      "    is a pair (host, port).\n",
      "\n",
      "None\n"
     ]
    }
   ],
   "source": [
    "print(help(s.connect))"
   ]
  },
  {
   "cell_type": "code",
   "execution_count": 25,
   "id": "a28dba9b",
   "metadata": {},
   "outputs": [
    {
     "name": "stdout",
     "output_type": "stream",
     "text": [
      "Help on built-in function recv:\n",
      "\n",
      "recv(...) method of socket.socket instance\n",
      "    recv(buffersize[, flags]) -> data\n",
      "    \n",
      "    Receive up to buffersize bytes from the socket.  For the optional flags\n",
      "    argument, see the Unix manual.  When no data is available, block until\n",
      "    at least one byte is available or until the remote end is closed.  When\n",
      "    the remote end is closed and all data is read, return the empty string.\n",
      "\n"
     ]
    }
   ],
   "source": [
    "help(s.recv)"
   ]
  },
  {
   "cell_type": "code",
   "execution_count": 26,
   "id": "a7af70ad",
   "metadata": {},
   "outputs": [
    {
     "name": "stdout",
     "output_type": "stream",
     "text": [
      "Help on method accept in module socket:\n",
      "\n",
      "accept() method of socket.socket instance\n",
      "    accept() -> (socket object, address info)\n",
      "    \n",
      "    Wait for an incoming connection.  Return a new socket\n",
      "    representing the connection, and the address of the client.\n",
      "    For IP sockets, the address info is a pair (hostaddr, port).\n",
      "\n"
     ]
    }
   ],
   "source": [
    "help(s.accept)"
   ]
  },
  {
   "cell_type": "code",
   "execution_count": null,
   "id": "4945f92f",
   "metadata": {},
   "outputs": [],
   "source": []
  }
 ],
 "metadata": {
  "kernelspec": {
   "display_name": "Python 3",
   "language": "python",
   "name": "python3"
  },
  "language_info": {
   "codemirror_mode": {
    "name": "ipython",
    "version": 3
   },
   "file_extension": ".py",
   "mimetype": "text/x-python",
   "name": "python",
   "nbconvert_exporter": "python",
   "pygments_lexer": "ipython3",
   "version": "3.8.5"
  }
 },
 "nbformat": 4,
 "nbformat_minor": 5
}
